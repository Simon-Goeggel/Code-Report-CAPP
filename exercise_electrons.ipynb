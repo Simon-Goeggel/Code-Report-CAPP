{
 "cells": [
  {
   "cell_type": "markdown",
   "metadata": {},
   "source": [
    "# Symbolica exercise"
   ]
  },
  {
   "cell_type": "markdown",
   "metadata": {},
   "source": [
    "This document contains a guided exercise for the use of Symbolica by studying an application in particle physics."
   ]
  },
  {
   "cell_type": "markdown",
   "metadata": {},
   "source": [
    "## Setup"
   ]
  },
  {
   "cell_type": "markdown",
   "metadata": {},
   "source": []
  },
  {
   "cell_type": "markdown",
   "metadata": {},
   "source": [
    "Run the following cell for some basic setup. Make sure you are running in a virtual environment so that you have the rights to install Symbolica."
   ]
  },
  {
   "cell_type": "code",
   "execution_count": 1,
   "metadata": {},
   "outputs": [],
   "source": [
    "#%pip install --upgrade symbolica\n",
    "from symbolica import *\n",
    "from IPython.display import Markdown as md, display as dp\n",
    "\n",
    "def display(self) -> None:\n",
    "    dp(md(self.to_latex().replace('gamma', '\\\\gamma').replace('mu', '\\\\mu')))\n",
    "\n",
    "def display_graph(self: Graph) -> None:\n",
    "    dp(md('```mermaid\\n' + self.to_mermaid().replace('\u001b[33m-\u001b[0m', '-').replace('\u001b[33m+\u001b[0m', '+') + '\\n```'))\n",
    "\n",
    "\n",
    "set_license_key('gcolab-demo-key-do-not-use-elsewhere')\n"
   ]
  },
  {
   "cell_type": "markdown",
   "metadata": {},
   "source": [
    "## Graph generation"
   ]
  },
  {
   "cell_type": "markdown",
   "metadata": {},
   "source": [
    "Generate graph by adding the proper vertex in the code below"
   ]
  },
  {
   "cell_type": "code",
   "execution_count": 2,
   "metadata": {},
   "outputs": [
    {
     "data": {
      "text/markdown": [
       "```mermaid\n",
       "graph TD;\n",
       "  0[\"0\"];\n",
       "  1[\"0\"];\n",
       "  2[\"1\"];\n",
       "  3[\"2\"];\n",
       "  0 ---|\"ph\"| 1;\n",
       "  0 -->|\"qu\"| 3;\n",
       "  1 -->|\"qu\"| 0;\n",
       "  2 -->|\"qu\"| 1;\n",
       "\n",
       "```"
      ],
      "text/plain": [
       "<IPython.core.display.Markdown object>"
      ]
     },
     "metadata": {},
     "output_type": "display_data"
    },
    {
     "name": "stdout",
     "output_type": "stream",
     "text": [
      "Symmetry factor: 1\n"
     ]
    }
   ],
   "source": [
    "ph, qu, m = S('ph', 'qu', 'm')\n",
    "\n",
    "vertices = [((True, qu), (None, ph), (False, qu))]  # electron emits or absorbs a photon\n",
    "\n",
    "graphs = Graph.generate([(1, (True, qu)), (2, (False, qu))], vertices, max_loops=1, max_bridges=0)\n",
    "\n",
    "(graph, sym) = next(g for g in graphs.items())\n",
    "display_graph(graph)\n",
    "print(\"Symmetry factor:\", sym)"
   ]
  },
  {
   "cell_type": "markdown",
   "metadata": {},
   "source": [
    "### Loop momentum basis"
   ]
  },
  {
   "cell_type": "code",
   "execution_count": 3,
   "metadata": {},
   "outputs": [],
   "source": [
    "def spanning_tree(graph: Graph, parent: int, cur_node: int, parent_map: dict[int, tuple[int, int]]):\n",
    "    if cur_node in parent_map:\n",
    "        return\n",
    "    parent_map[cur_node] = (parent, len(parent_map))\n",
    "    for edge in graph.node(cur_node)[0]:\n",
    "        (v1, v2,_,_) = graph.edge(edge)\n",
    "        other = v1 if v2 == cur_node else v2\n",
    "        spanning_tree(graph, cur_node, other, parent_map)\n",
    "\n",
    "def get_loop_momenta(graph: Graph, parents: dict[int, tuple[int, int]]) -> list[int]:\n",
    "    loop_mom_edges = []\n",
    "    seen_edges = set()\n",
    "    for edge_id in range(graph.num_edges()):\n",
    "        (v1, v2 ,_, _) = graph.edge(edge_id)\n",
    "        if parents[v1][0] == v2 or parents[v2][0] == v1:\n",
    "            es = tuple(sorted((v1, v2)))\n",
    "            if es in seen_edges:\n",
    "                loop_mom_edges.append(edge_id)\n",
    "            else:\n",
    "                seen_edges.add(es)\n",
    "        else:\n",
    "            loop_mom_edges.append(edge_id)\n",
    "    return loop_mom_edges\n",
    "\n",
    "def assign_mom(graph: Graph, parents: dict[int, tuple[int, int]], cur: int, dest: int, mom: Expression):\n",
    "    while cur != dest:\n",
    "        spanning_tree_edge = next(ee for ee in range(graph.num_edges()) if sorted(graph.edge(ee)[:2]) == sorted((cur, parents[cur][0])))\n",
    "        (v1, v2,dir,data) = graph.edge(spanning_tree_edge)\n",
    "        if cur == v1:\n",
    "            graph.set_edge_data(spanning_tree_edge, data + mom)\n",
    "        else:\n",
    "            graph.set_edge_data(spanning_tree_edge, data - mom)\n",
    "        cur = parents[cur][0]\n",
    "\n",
    "def assign_loop_mom(graph: Graph, parents: dict[int, tuple[int, int]], lm_edge: int, loop_mom_symbol: Expression):\n",
    "    (v1, v2, _, data) = graph.edge(lm_edge)\n",
    "    cur = v1 if parents[v1][1] > parents[v2][1] else v2\n",
    "    dest = v1 if cur == v2 else v2\n",
    "    graph.set_edge_data(lm_edge, data + loop_mom_symbol)\n",
    "    assign_mom(graph, parents, cur, dest, loop_mom_symbol if cur == v2 else -loop_mom_symbol)\n",
    "\n",
    "def assign_momenta(graph: Graph, loop_mom_symbol: Expression, ext_mom_symbol: Expression) -> Graph:\n",
    "    mom_assignment = graph.__copy__()\n",
    "    for edge_id in range(mom_assignment.num_edges()):\n",
    "        mom_assignment.set_edge_data(edge_id, N(0))\n",
    "\n",
    "    parents = {}\n",
    "    # select one external as the root node\n",
    "    root = next(n for n in range(mom_assignment.num_nodes()) if mom_assignment.node(n)[1] == 1)\n",
    "    spanning_tree(mom_assignment, root, root, parents)\n",
    "\n",
    "    lm = get_loop_momenta(mom_assignment, parents)\n",
    "\n",
    "    for id, lm_edge in enumerate(lm):\n",
    "        assign_loop_mom(mom_assignment, parents, lm_edge, loop_mom_symbol(id))\n",
    "\n",
    "    # assign external momenta\n",
    "    ext_count = 0\n",
    "    for ext2 in range(graph.num_nodes()):\n",
    "        if graph.node(ext2)[1] > 1:\n",
    "            assign_mom(mom_assignment, parents, ext2, root, ext_mom_symbol(ext_count))\n",
    "            ext_count += 1\n",
    "\n",
    "    result = graph.__copy__()\n",
    "    for edge_id in range(graph.num_edges()):\n",
    "        result.set_edge_data(edge_id, S('edge')(result.edge(edge_id)[3], mom_assignment.edge(edge_id)[3]))\n",
    "    return result"
   ]
  },
  {
   "cell_type": "markdown",
   "metadata": {},
   "source": [
    "### Momentum assignment\n",
    "\n",
    "Call `assign_momenta` on your graph and display it using `display_graph`"
   ]
  },
  {
   "cell_type": "code",
   "execution_count": 4,
   "metadata": {},
   "outputs": [
    {
     "data": {
      "text/markdown": [
       "```mermaid\n",
       "graph TD;\n",
       "  0[\"0\"];\n",
       "  1[\"0\"];\n",
       "  2[\"1\"];\n",
       "  3[\"2\"];\n",
       "  0 ---|\"edge(ph,k(0)+p(0))\"| 1;\n",
       "  0 -->|\"edge(qu,-p(0))\"| 3;\n",
       "  1 -->|\"edge(qu,k(0))\"| 0;\n",
       "  2 -->|\"edge(qu,-p(0))\"| 1;\n",
       "\n",
       "```"
      ],
      "text/plain": [
       "<IPython.core.display.Markdown object>"
      ]
     },
     "metadata": {},
     "output_type": "display_data"
    }
   ],
   "source": [
    "k, p = S('k', 'p')\n",
    "graph = assign_momenta(graph, k, p)\n",
    "display_graph(graph)"
   ]
  },
  {
   "cell_type": "markdown",
   "metadata": {},
   "source": [
    "## Feynman rules"
   ]
  },
  {
   "cell_type": "markdown",
   "metadata": {},
   "source": [
    "Complete the code below that applies the Feynman rules to your expression called `graph`\n",
    "- Use the edge index `i` to generate two dummy indices `mu(2*i)` and `mu(2*i + 1)`\n",
    "- The expression should look like $\\gamma(0, k(0), 3) \\gamma(3, \\mu(2), 4)  \\cdots  prop(k, m^2)$\n",
    "- Give the fermion a mass `m`"
   ]
  },
  {
   "cell_type": "code",
   "execution_count": 5,
   "metadata": {},
   "outputs": [
    {
     "data": {
      "text/markdown": [
       "$$\\gamma\\!\\left(4,k\\!\\left(0\\right),5\\right) \\gamma\\!\\left(5,\\mu\\!\\left(0\\right),2\\right) \\gamma\\!\\left(7,\\mu\\!\\left(0\\right),4\\right) \\gamma\\!\\left(2,-p\\!\\left(0\\right),3\\right) \\gamma\\!\\left(6,-p\\!\\left(0\\right),7\\right) prop\\!\\left(k\\!\\left(0\\right),m^{2}\\right) prop\\!\\left(k\\!\\left(0\\right)+p\\!\\left(0\\right),0\\right) prop\\!\\left(-p\\!\\left(0\\right),m^{2}\\right)^{2}+m \\gamma\\!\\left(2,3\\right) \\gamma\\!\\left(4,k\\!\\left(0\\right),5\\right) \\gamma\\!\\left(5,\\mu\\!\\left(0\\right),2\\right) \\gamma\\!\\left(7,\\mu\\!\\left(0\\right),4\\right) \\gamma\\!\\left(6,-p\\!\\left(0\\right),7\\right) prop\\!\\left(k\\!\\left(0\\right),m^{2}\\right) prop\\!\\left(k\\!\\left(0\\right)+p\\!\\left(0\\right),0\\right) prop\\!\\left(-p\\!\\left(0\\right),m^{2}\\right)^{2}+m \\gamma\\!\\left(4,5\\right) \\gamma\\!\\left(5,\\mu\\!\\left(0\\right),2\\right) \\gamma\\!\\left(7,\\mu\\!\\left(0\\right),4\\right) \\gamma\\!\\left(2,-p\\!\\left(0\\right),3\\right) \\gamma\\!\\left(6,-p\\!\\left(0\\right),7\\right) prop\\!\\left(k\\!\\left(0\\right),m^{2}\\right) prop\\!\\left(k\\!\\left(0\\right)+p\\!\\left(0\\right),0\\right) prop\\!\\left(-p\\!\\left(0\\right),m^{2}\\right)^{2}+m \\gamma\\!\\left(6,7\\right) \\gamma\\!\\left(4,k\\!\\left(0\\right),5\\right) \\gamma\\!\\left(5,\\mu\\!\\left(0\\right),2\\right) \\gamma\\!\\left(7,\\mu\\!\\left(0\\right),4\\right) \\gamma\\!\\left(2,-p\\!\\left(0\\right),3\\right) prop\\!\\left(k\\!\\left(0\\right),m^{2}\\right) prop\\!\\left(k\\!\\left(0\\right)+p\\!\\left(0\\right),0\\right) prop\\!\\left(-p\\!\\left(0\\right),m^{2}\\right)^{2}+m^{2} \\gamma\\!\\left(2,3\\right) \\gamma\\!\\left(4,5\\right) \\gamma\\!\\left(5,\\mu\\!\\left(0\\right),2\\right) \\gamma\\!\\left(7,\\mu\\!\\left(0\\right),4\\right) \\gamma\\!\\left(6,-p\\!\\left(0\\right),7\\right) prop\\!\\left(k\\!\\left(0\\right),m^{2}\\right) prop\\!\\left(k\\!\\left(0\\right)+p\\!\\left(0\\right),0\\right) prop\\!\\left(-p\\!\\left(0\\right),m^{2}\\right)^{2}+m^{2} \\gamma\\!\\left(2,3\\right) \\gamma\\!\\left(6,7\\right) \\gamma\\!\\left(4,k\\!\\left(0\\right),5\\right) \\gamma\\!\\left(5,\\mu\\!\\left(0\\right),2\\right) \\gamma\\!\\left(7,\\mu\\!\\left(0\\right),4\\right) prop\\!\\left(k\\!\\left(0\\right),m^{2}\\right) prop\\!\\left(k\\!\\left(0\\right)+p\\!\\left(0\\right),0\\right) prop\\!\\left(-p\\!\\left(0\\right),m^{2}\\right)^{2}+m^{2} \\gamma\\!\\left(4,5\\right) \\gamma\\!\\left(6,7\\right) \\gamma\\!\\left(5,\\mu\\!\\left(0\\right),2\\right) \\gamma\\!\\left(7,\\mu\\!\\left(0\\right),4\\right) \\gamma\\!\\left(2,-p\\!\\left(0\\right),3\\right) prop\\!\\left(k\\!\\left(0\\right),m^{2}\\right) prop\\!\\left(k\\!\\left(0\\right)+p\\!\\left(0\\right),0\\right) prop\\!\\left(-p\\!\\left(0\\right),m^{2}\\right)^{2}+m^{3} \\gamma\\!\\left(2,3\\right) \\gamma\\!\\left(4,5\\right) \\gamma\\!\\left(6,7\\right) \\gamma\\!\\left(5,\\mu\\!\\left(0\\right),2\\right) \\gamma\\!\\left(7,\\mu\\!\\left(0\\right),4\\right) prop\\!\\left(k\\!\\left(0\\right),m^{2}\\right) prop\\!\\left(k\\!\\left(0\\right)+p\\!\\left(0\\right),0\\right) prop\\!\\left(-p\\!\\left(0\\right),m^{2}\\right)^{2}$$"
      ],
      "text/plain": [
       "<IPython.core.display.Markdown object>"
      ]
     },
     "metadata": {},
     "output_type": "display_data"
    }
   ],
   "source": [
    "e = sym  # Initialize the expression\n",
    "\n",
    "gamma, mu, prop, m = S('gamma', 'mu', 'prop', 'm')\n",
    "\n",
    "# Loop over the nodes in the graph\n",
    "for (n, (edges, _)) in enumerate(x for x in graph):\n",
    "    if len(edges) == 1:  # external node\n",
    "        continue\n",
    "    \n",
    "    # Find photon, fermion (q_bar), and the third edge (nq)\n",
    "    photon = next(ei for ei in edges if graph.edge(ei)[3].contains(ph))  # photon edge id\n",
    "    q_bar = next(ei for ei in edges if graph.edge(ei)[3].contains(qu) and graph.edge(ei)[1] == n)  # fermion edge id\n",
    "    nq = next(x for x in edges if x not in [photon, q_bar])\n",
    "\n",
    "    # Add the interaction (gamma matrix) for this vertex\n",
    "    e = e * gamma(q_bar * 2 + 1, mu(photon * 2), nq * 2)\n",
    "\n",
    "# Loop over the edges in the graph to account for the propagators\n",
    "for i in range(graph.num_edges()):\n",
    "    (v1, v2, dir, part) = graph.edge(i)\n",
    "    mom = part[1]\n",
    "\n",
    "    if part.contains(ph):  # Photon propagator\n",
    "        if len(graph.node(v1)[0]) > 1 and len(graph.node(v2)[0]) > 1:\n",
    "            e = e * prop(mom, 0)  # Photon propagator in the loop (massless)\n",
    "    else:  # Fermion propagator\n",
    "        e = e * (gamma(i * 2, mom, i * 2 + 1) + m * gamma(i * 2, i * 2 + 1)) * prop(mom, m**2)\n",
    "\n",
    "# Expand the final expression for the amplitude\n",
    "e = e.expand()\n",
    "\n",
    "# Display the result\n",
    "display(e)\n"
   ]
  },
  {
   "cell_type": "markdown",
   "metadata": {},
   "source": [
    "### Projection"
   ]
  },
  {
   "cell_type": "markdown",
   "metadata": {},
   "source": [
    "Make the Feynman diagram a scalar by contracting the external indices\n",
    "- The external edge indices are determined below"
   ]
  },
  {
   "cell_type": "code",
   "execution_count": 6,
   "metadata": {},
   "outputs": [
    {
     "name": "stdout",
     "output_type": "stream",
     "text": [
      "gamma(4,k(0),5)*gamma(5,mu(0),2)*gamma(7,mu(0),4)*gamma(2,-p(0),3)*gamma(6,-p(0),7)*prop(k(0),m²)*prop(k(0)+p(0),0)*prop(-p(0),m²)²*g(mu(2),mu(6))\n",
      "\u001b[33m+\u001b[0mm*gamma(2,3)*gamma(4,k(0),5)*gamma(5,mu(0),2)*gamma(7,mu(0),4)*gamma(6,-p(0),7)*prop(k(0),m²)*prop(k(0)+p(0),0)*prop(-p(0),m²)²*g(mu(2),mu(6))\n",
      "\u001b[33m+\u001b[0mm*gamma(4,5)*gamma(5,mu(0),2)*gamma(7,mu(0),4)*gamma(2,-p(0),3)*gamma(6,-p(0),7)*prop(k(0),m²)*prop(k(0)+p(0),0)*prop(-p(0),m²)²*g(mu(2),mu(6))\n",
      "\u001b[33m+\u001b[0mm*gamma(6,7)*gamma(4,k(0),5)*gamma(5,mu(0),2)*gamma(7,mu(0),4)*gamma(2,-p(0),3)*prop(k(0),m²)*prop(k(0)+p(0),0)*prop(-p(0),m²)²*g(mu(2),mu(6))\n",
      "\u001b[33m+\u001b[0mm²*gamma(2,3)*gamma(4,5)*gamma(5,mu(0),2)*gamma(7,mu(0),4)*gamma(6,-p(0),7)*prop(k(0),m²)*prop(k(0)+p(0),0)*prop(-p(0),m²)²*g(mu(2),mu(6))\n",
      "\u001b[33m+\u001b[0mm²*gamma(2,3)*gamma(6,7)*gamma(4,k(0),5)*gamma(5,mu(0),2)*gamma(7,mu(0),4)*prop(k(0),m²)*prop(k(0)+p(0),0)*prop(-p(0),m²)²*g(mu(2),mu(6))\n",
      "\u001b[33m+\u001b[0mm²*gamma(4,5)*gamma(6,7)*gamma(5,mu(0),2)*gamma(7,mu(0),4)*gamma(2,-p(0),3)*prop(k(0),m²)*prop(k(0)+p(0),0)*prop(-p(0),m²)²*g(mu(2),mu(6))\n",
      "\u001b[33m+\u001b[0mm³*gamma(2,3)*gamma(4,5)*gamma(6,7)*gamma(5,mu(0),2)*gamma(7,mu(0),4)*prop(k(0),m²)*prop(k(0)+p(0),0)*prop(-p(0),m²)²*g(mu(2),mu(6))\n"
     ]
    }
   ],
   "source": [
    "ext_edges = [i for i in range(graph.num_edges()) if len(graph.node(graph.edge(i)[0])[0]) == 1 or len(graph.node(graph.edge(i)[1])[0]) == 1]\n",
    "\n",
    "g, x_, x___, y_, y___ = S('g', 'x_', 'x___', 'y_', 'y___')\n",
    "e = e * g(mu(ext_edges[0] * 2), mu(ext_edges[1] * 2))\n",
    "e = e.expand().replace(g(x_, y_)*gamma(x___, x_, y___), gamma(x___, y_, y___))\n",
    "print(e.format(terms_on_new_line=True))"
   ]
  },
  {
   "cell_type": "markdown",
   "metadata": {},
   "source": [
    "### Gamma trace"
   ]
  },
  {
   "cell_type": "markdown",
   "metadata": {},
   "source": [
    "Contract the gamma matrices. You should have one gamma chain left after this operation."
   ]
  },
  {
   "cell_type": "code",
   "execution_count": 7,
   "metadata": {},
   "outputs": [
    {
     "name": "stdout",
     "output_type": "stream",
     "text": [
      "gamma(6,-p(0),mu(0),k(0),mu(0),-p(0),3)*prop(k(0),m^2)*prop(k(0)+p(0),0)*prop(-p(0),m^2)^2*g(mu(2),mu(6))\u001b[33m+\u001b[0mm*gamma(6,mu(0),k(0),mu(0),-p(0),3)*prop(k(0),m^2)*prop(k(0)+p(0),0)*prop(-p(0),m^2)^2*g(mu(2),mu(6))\u001b[33m+\u001b[0mm*gamma(6,-p(0),mu(0),k(0),mu(0),3)*prop(k(0),m^2)*prop(k(0)+p(0),0)*prop(-p(0),m^2)^2*g(mu(2),mu(6))\u001b[33m+\u001b[0mm*gamma(6,-p(0),mu(0),mu(0),-p(0),3)*prop(k(0),m^2)*prop(k(0)+p(0),0)*prop(-p(0),m^2)^2*g(mu(2),mu(6))\u001b[33m+\u001b[0mm^2*gamma(6,mu(0),k(0),mu(0),3)*prop(k(0),m^2)*prop(k(0)+p(0),0)*prop(-p(0),m^2)^2*g(mu(2),mu(6))\u001b[33m+\u001b[0mm^2*gamma(6,mu(0),mu(0),-p(0),3)*prop(k(0),m^2)*prop(k(0)+p(0),0)*prop(-p(0),m^2)^2*g(mu(2),mu(6))\u001b[33m+\u001b[0mm^2*gamma(6,-p(0),mu(0),mu(0),3)*prop(k(0),m^2)*prop(k(0)+p(0),0)*prop(-p(0),m^2)^2*g(mu(2),mu(6))\u001b[33m+\u001b[0mm^3*gamma(6,mu(0),mu(0),3)*prop(k(0),m^2)*prop(k(0)+p(0),0)*prop(-p(0),m^2)^2*g(mu(2),mu(6))\n"
     ]
    }
   ],
   "source": [
    "e = e.replace(gamma(x___, x_)*gamma(x_, y___), gamma(x___, y___),repeat=True)\n",
    "print(e)"
   ]
  },
  {
   "cell_type": "markdown",
   "metadata": {},
   "source": [
    "Perform the fermion trace by calling `gamma_trace`.\n"
   ]
  },
  {
   "cell_type": "code",
   "execution_count": 8,
   "metadata": {},
   "outputs": [],
   "source": [
    "# Perform the trace of a gamma matrix chain written as arguments of the function `tracer::trace()`.\n",
    "# Returns contractions as `tracer::d`.\n",
    "def gamma_trace(max_gamma_len: int) -> Transformer:\n",
    "    T = Transformer()\n",
    "    trace, x___, x_, y___, d = S('tracer::trace', 'tracer::x___', 'tracer::x_', 'tracer::y___', 'tracer::d')\n",
    "    p_ = S(*['tracer::p' + str(i + 1) + '_' for i in range(max_gamma_len)])\n",
    "    t = T\n",
    "    for l in range(max_gamma_len, 0, -1):\n",
    "        if l % 2 == 1:\n",
    "            t = t.replace(trace(*p_[:l]), 0)\n",
    "        else:\n",
    "            t = t.chain(\n",
    "                T.replace(trace(x___, x_, x_, y___),\n",
    "                            d(x_, x_)*trace(x___, y___)),\n",
    "                T.replace(trace(\n",
    "                    *p_[:l]), sum((-1)**(k+1) * d(p_[0], p_[k]) * trace(*p_[1:k], *p_[k+1:l]) for k in range(1, l))).expand())\n",
    "    return t.replace(trace(), 4)"
   ]
  },
  {
   "cell_type": "code",
   "execution_count": 9,
   "metadata": {},
   "outputs": [
    {
     "name": "stdout",
     "output_type": "stream",
     "text": [
      "gamma(6,-p(0),mu(0),k(0),mu(0),-p(0),3)*prop(k(0),m²)*prop(k(0)+p(0),0)*prop(-p(0),m²)²*g(mu(2),mu(6))\n",
      "\u001b[33m+\u001b[0mm*gamma(6,mu(0),k(0),mu(0),-p(0),3)*prop(k(0),m²)*prop(k(0)+p(0),0)*prop(-p(0),m²)²*g(mu(2),mu(6))\n",
      "\u001b[33m+\u001b[0mm*gamma(6,-p(0),mu(0),k(0),mu(0),3)*prop(k(0),m²)*prop(k(0)+p(0),0)*prop(-p(0),m²)²*g(mu(2),mu(6))\n",
      "\u001b[33m+\u001b[0mm*gamma(6,-p(0),mu(0),mu(0),-p(0),3)*prop(k(0),m²)*prop(k(0)+p(0),0)*prop(-p(0),m²)²*g(mu(2),mu(6))\n",
      "\u001b[33m+\u001b[0mm²*gamma(6,mu(0),k(0),mu(0),3)*prop(k(0),m²)*prop(k(0)+p(0),0)*prop(-p(0),m²)²*g(mu(2),mu(6))\n",
      "\u001b[33m+\u001b[0mm²*gamma(6,mu(0),mu(0),-p(0),3)*prop(k(0),m²)*prop(k(0)+p(0),0)*prop(-p(0),m²)²*g(mu(2),mu(6))\n",
      "\u001b[33m+\u001b[0mm²*gamma(6,-p(0),mu(0),mu(0),3)*prop(k(0),m²)*prop(k(0)+p(0),0)*prop(-p(0),m²)²*g(mu(2),mu(6))\n",
      "\u001b[33m+\u001b[0mm³*gamma(6,mu(0),mu(0),3)*prop(k(0),m²)*prop(k(0)+p(0),0)*prop(-p(0),m²)²*g(mu(2),mu(6))\n"
     ]
    }
   ],
   "source": [
    "trace = S(\"tracer::trace\")\n",
    "\n",
    "e = e.replace(gamma(x_, y___, x_), trace(y___))\n",
    "traced = gamma_trace(10)(e)\n",
    "print(traced.format(terms_on_new_line=True))\n"
   ]
  },
  {
   "cell_type": "markdown",
   "metadata": {},
   "source": [
    "Contract indices with pattern matching, making sure that $g^{\\mu\\mu} = D = 4-2\\epsilon$"
   ]
  },
  {
   "cell_type": "code",
   "execution_count": 10,
   "metadata": {},
   "outputs": [
    {
     "name": "stdout",
     "output_type": "stream",
     "text": [
      "gamma(6,-p(0),mu(0),k(0),mu(0),-p(0),3)*prop(k(0),m²)*prop(k(0)+p(0),0)*prop(-p(0),m²)²*g(mu(2),mu(6))\n",
      "\u001b[33m+\u001b[0mm*gamma(6,mu(0),k(0),mu(0),-p(0),3)*prop(k(0),m²)*prop(k(0)+p(0),0)*prop(-p(0),m²)²*g(mu(2),mu(6))\n",
      "\u001b[33m+\u001b[0mm*gamma(6,-p(0),mu(0),k(0),mu(0),3)*prop(k(0),m²)*prop(k(0)+p(0),0)*prop(-p(0),m²)²*g(mu(2),mu(6))\n",
      "\u001b[33m+\u001b[0mm*gamma(6,-p(0),mu(0),mu(0),-p(0),3)*prop(k(0),m²)*prop(k(0)+p(0),0)*prop(-p(0),m²)²*g(mu(2),mu(6))\n",
      "\u001b[33m+\u001b[0mm²*gamma(6,mu(0),k(0),mu(0),3)*prop(k(0),m²)*prop(k(0)+p(0),0)*prop(-p(0),m²)²*g(mu(2),mu(6))\n",
      "\u001b[33m+\u001b[0mm²*gamma(6,mu(0),mu(0),-p(0),3)*prop(k(0),m²)*prop(k(0)+p(0),0)*prop(-p(0),m²)²*g(mu(2),mu(6))\n",
      "\u001b[33m+\u001b[0mm²*gamma(6,-p(0),mu(0),mu(0),3)*prop(k(0),m²)*prop(k(0)+p(0),0)*prop(-p(0),m²)²*g(mu(2),mu(6))\n",
      "\u001b[33m+\u001b[0mm³*gamma(6,mu(0),mu(0),3)*prop(k(0),m²)*prop(k(0)+p(0),0)*prop(-p(0),m²)²*g(mu(2),mu(6))\n"
     ]
    }
   ],
   "source": [
    "ep, td = S('ep', 'tracer::d')\n",
    "d = S('d', is_symmetric=True, is_linear=True)\n",
    "\n",
    "contract = traced.replace(td(x___), d(x___)).expand().replace(d(mu(x_),y_)*d(mu(x_), x___), d(y_, x___), repeat=True)\n",
    "contract = contract.replace(d(mu(x_), x___)**2, d(x___, x___), repeat=True)\n",
    "contract = contract.replace(d(mu(x_), mu(x_)), 4-2*ep)\n",
    "print(contract.format(terms_on_new_line=True))"
   ]
  },
  {
   "cell_type": "code",
   "execution_count": null,
   "metadata": {},
   "outputs": [],
   "source": [
    " "
   ]
  }
 ],
 "metadata": {
  "kernelspec": {
   "display_name": "Python 3",
   "language": "python",
   "name": "python3"
  },
  "language_info": {
   "codemirror_mode": {
    "name": "ipython",
    "version": 3
   },
   "file_extension": ".py",
   "mimetype": "text/x-python",
   "name": "python",
   "nbconvert_exporter": "python",
   "pygments_lexer": "ipython3",
   "version": "3.13.2"
  }
 },
 "nbformat": 4,
 "nbformat_minor": 2
}
